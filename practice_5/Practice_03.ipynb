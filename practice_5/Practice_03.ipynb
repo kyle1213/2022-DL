{
  "cells": [
    {
      "cell_type": "markdown",
      "source": [
        "# 프로젝트 설명\n",
        "\n",
        "- 이번 프로젝트의 목적은 자동차 데이터를 활용하여 회귀에 대한 이해도를 높이고 높은 R2점수를 획득하는 것에 있습니다.\n",
        "- 자동차의 가격, 주행거리, 연료 타입 등을 바탕으로 여러가지 분석을 진행해 볼 수 있습니다.\n",
        "- 회귀 분석은 데이터 세트의 변수 간 관계를 발견하는 방법입니다. 특히 예측과 관련하여 광범위한 문제를 해결하기 위해 많이 사용하게 됩니다.\n",
        "\n",
        "\n",
        "# 데이터 설명\n",
        "www.cardekho.com 웹사이트에서 수집된 자동차에 대한 데이터입니다.\n",
        "\n",
        "* Car_Name : 자동차의 이름 \n",
        "* Year : 자동차 구매연도\n",
        "* Selling_Price : 첫 판매 가격\n",
        "* Present_Price : 현재 가격\n",
        "* Kms_Driven : 주행 거리\n",
        "* Fuel_Type : 연료 타입 (petrol / disel / CNG / LPG / electric)\n",
        "* Seller_Type : 판매자 타입 (Indivisual / Dealer)\n",
        "* Transmission : 기어 변속기 (Automatic / Manual)\n",
        "* Owner : 소유자 변경 횟수 (First Owner / Second Owner / Third Owner / Fourth & Above Owner)"
      ],
      "metadata": {}
    },
    {
      "cell_type": "markdown",
      "source": [
        "## 데이터 불러오기"
      ],
      "metadata": {}
    },
    {
      "cell_type": "code",
      "source": [
        "## 상품 수령울 위한 이름과 연락처를 주석으로 입력해주세요.\n",
        "## 이름 : 김동욱\n",
        "## 연락처 : jayk01213@naver.com"
      ],
      "outputs": [],
      "execution_count": null,
      "metadata": {
        "trusted": false
      }
    },
    {
      "cell_type": "code",
      "source": [
        "from sklearn.linear_model import LinearRegression## 필요한 패키지를 import 해 보세요.\n",
        "import pandas as pd\n",
        "import matplotlib.pyplot as plt\n",
        "from sklearn.preprocessing import StandardScaler\n",
        "import seaborn as sns\n",
        "from sklearn.model_selection import train_test_split\n",
        "from sklearn.metrics import r2_score\n",
        "from sklearn.linear_model import LinearRegression"
      ],
      "outputs": [],
      "execution_count": 41,
      "metadata": {
        "_cell_guid": "b1076dfc-b9ad-4769-8c92-a6c4dae69d19",
        "_uuid": "8f2839f25d086af736a60e9eeb907d3b93b6e0e5",
        "execution": {
          "iopub.execute_input": "2022-12-14T02:32:16.627Z",
          "iopub.status.busy": "2022-12-14T02:32:16.624Z",
          "iopub.status.idle": "2022-12-14T02:32:16.667Z",
          "shell.execute_reply": "2022-12-14T02:32:16.629Z",
          "shell.execute_reply.started": "2021-11-12T05:22:11.549237Z"
        },
        "trusted": false
      }
    },
    {
      "cell_type": "code",
      "source": [
        "## 주어진 파일명을 활용하여 데이터를 불러와 할당해 보세요. (car data.csv)\n",
        "data = pd.read_csv('car data.csv')\n",
        "\n"
      ],
      "outputs": [],
      "execution_count": 37,
      "metadata": {
        "_cell_guid": "b1076dfc-b9ad-4769-8c92-a6c4dae69d19",
        "_uuid": "8f2839f25d086af736a60e9eeb907d3b93b6e0e5",
        "execution": {
          "iopub.execute_input": "2022-12-14T02:21:52.528Z",
          "iopub.status.busy": "2022-12-14T02:21:52.524Z",
          "iopub.status.idle": "2022-12-14T02:21:52.566Z",
          "shell.execute_reply": "2022-12-14T02:21:52.531Z",
          "shell.execute_reply.started": "2021-11-12T05:22:11.549237Z"
        },
        "trusted": false
      }
    },
    {
      "cell_type": "code",
      "source": [
        "## 데이터의 형태와 결측치 등을 확인해 보세요.\n",
        "print(data.shape)\n",
        "\n",
        "print(data.isnull().sum())\n",
        "\n",
        "print(data.head())\n",
        "\n",
        "print(data.describe())\n",
        "\n"
      ],
      "outputs": [
        {
          "output_type": "stream",
          "name": "stdout",
          "text": "(301, 9)\nCar_Name         0\nYear             0\nSelling_Price    0\nPresent_Price    0\nKms_Driven       0\nFuel_Type        0\nSeller_Type      0\nTransmission     0\nOwner            0\ndtype: int64\n  Car_Name  Year  Selling_Price  Present_Price  Kms_Driven Fuel_Type  \\\n0     ritz  2014           3.35           5.59       27000    Petrol   \n1      sx4  2013           4.75           9.54       43000    Diesel   \n2     ciaz  2017           7.25           9.85        6900    Petrol   \n3  wagon r  2011           2.85           4.15        5200    Petrol   \n4    swift  2014           4.60           6.87       42450    Diesel   \n\n  Seller_Type Transmission  Owner  \n0      Dealer       Manual      0  \n1      Dealer       Manual      0  \n2      Dealer       Manual      0  \n3      Dealer       Manual      0  \n4      Dealer       Manual      0  \n              Year  Selling_Price  Present_Price     Kms_Driven       Owner\ncount   301.000000     301.000000     301.000000     301.000000  301.000000\nmean   2013.627907       4.661296       7.628472   36947.205980    0.043189\nstd       2.891554       5.082812       8.644115   38886.883882    0.247915\nmin    2003.000000       0.100000       0.320000     500.000000    0.000000\n25%    2012.000000       0.900000       1.200000   15000.000000    0.000000\n50%    2014.000000       3.600000       6.400000   32000.000000    0.000000\n75%    2016.000000       6.000000       9.900000   48767.000000    0.000000\nmax    2018.000000      35.000000      92.600000  500000.000000    3.000000\n"
        }
      ],
      "execution_count": 7,
      "metadata": {
        "_cell_guid": "b1076dfc-b9ad-4769-8c92-a6c4dae69d19",
        "_uuid": "8f2839f25d086af736a60e9eeb907d3b93b6e0e5",
        "execution": {
          "iopub.execute_input": "2022-12-14T01:22:19.927Z",
          "iopub.status.busy": "2022-12-14T01:22:19.899Z",
          "iopub.status.idle": "2022-12-14T01:22:19.970Z",
          "shell.execute_reply": "2022-12-14T01:22:19.968Z",
          "shell.execute_reply.started": "2021-11-12T05:22:11.549237Z"
        },
        "trusted": false
      }
    },
    {
      "cell_type": "markdown",
      "source": [
        "## 탐색적 데이터 분석(EDA)\n",
        "데이터를 시각화 하며 탐색해 보겠습니다."
      ],
      "metadata": {}
    },
    {
      "cell_type": "code",
      "source": [
        "## 각각의 변수에 대해 시각화를 통해 특성을 파악해 보세요.\n",
        "\n",
        "fig, axes = plt.subplots(nrows=2, ncols=2)\n",
        "\n",
        "data['Selling_Price'].plot(ax=axes[0,0])\n",
        "data['Present_Price'].plot(ax=axes[0,1])\n",
        "data['Kms_Driven'].plot(ax=axes[1,0])\n",
        "data['Owner'].plot(ax=axes[1,1])"
      ],
      "outputs": [
        {
          "output_type": "execute_result",
          "execution_count": 38,
          "data": {
            "text/plain": "<AxesSubplot:>"
          },
          "metadata": {}
        },
        {
          "output_type": "display_data",
          "data": {
            "text/plain": "<Figure size 432x288 with 4 Axes>",
            "image/png": "[encoded data removed]"
          },
          "metadata": {
            "needs_background": "light"
          }
        }
      ],
      "execution_count": 38,
      "metadata": {
        "_cell_guid": "b1076dfc-b9ad-4769-8c92-a6c4dae69d19",
        "_uuid": "8f2839f25d086af736a60e9eeb907d3b93b6e0e5",
        "execution": {
          "iopub.execute_input": "2022-12-14T02:21:56.551Z",
          "iopub.status.busy": "2022-12-14T02:21:56.545Z",
          "iopub.status.idle": "2022-12-14T02:21:56.979Z",
          "shell.execute_reply": "2022-12-14T02:21:56.980Z",
          "shell.execute_reply.started": "2021-11-12T05:22:11.549237Z"
        },
        "trusted": false
      }
    },
    {
      "cell_type": "code",
      "source": [
        "## 범주형 변수를 수치형 변수로 변환해 보세요\n",
        "data['Car_Name'] = pd.factorize(data['Car_Name'])[0]\n",
        "data['Fuel_Type'] = pd.factorize(data['Fuel_Type'])[0]\n",
        "data['Seller_Type'] = pd.factorize(data['Seller_Type'])[0]\n",
        "data['Transmission'] = pd.factorize(data['Transmission'])[0]\n",
        "data['Owner'] = pd.factorize(data['Owner'])[0]\n",
        "\n",
        "print(data)\n",
        "\n"
      ],
      "outputs": [
        {
          "output_type": "stream",
          "name": "stdout",
          "text": "     Car_Name  Year  Selling_Price  Present_Price  Kms_Driven  Fuel_Type  \\\n0           0  2014           3.35           5.59       27000          0   \n1           1  2013           4.75           9.54       43000          1   \n2           2  2017           7.25           9.85        6900          0   \n3           3  2011           2.85           4.15        5200          0   \n4           4  2014           4.60           6.87       42450          1   \n..        ...   ...            ...            ...         ...        ...   \n296        94  2016           9.50          11.60       33988          1   \n297        95  2015           4.00           5.90       60000          0   \n298        94  2009           3.35          11.00       87934          0   \n299        94  2017          11.50          12.50        9000          1   \n300        95  2016           5.30           5.90        5464          0   \n\n     Seller_Type  Transmission  Owner  \n0              0             0      0  \n1              0             0      0  \n2              0             0      0  \n3              0             0      0  \n4              0             0      0  \n..           ...           ...    ...  \n296            0             0      0  \n297            0             0      0  \n298            0             0      0  \n299            0             0      0  \n300            0             0      0  \n\n[301 rows x 9 columns]\n"
        }
      ],
      "execution_count": 39,
      "metadata": {
        "execution": {
          "iopub.execute_input": "2022-12-14T02:22:00.404Z",
          "iopub.status.busy": "2022-12-14T02:22:00.401Z",
          "iopub.status.idle": "2022-12-14T02:22:00.412Z",
          "shell.execute_reply": "2022-12-14T02:22:00.410Z",
          "shell.execute_reply.started": "2021-11-12T05:22:13.485230Z"
        },
        "trusted": false
      }
    },
    {
      "cell_type": "code",
      "source": [
        "## 데이터 셋의 상관관계를 시각화하여 확인해 보세요.\n",
        "data.corr()\n",
        "\n",
        "\n",
        "\n"
      ],
      "outputs": [
        {
          "output_type": "execute_result",
          "execution_count": 21,
          "data": {
            "text/plain": "               Car_Name      Year  Selling_Price  Present_Price  Kms_Driven  \\\nCar_Name       1.000000  0.093863      -0.102556      -0.174656   -0.088554   \nYear           0.093863  1.000000       0.236141      -0.047584   -0.524342   \nSelling_Price -0.102556  0.236141       1.000000       0.878983    0.029187   \nPresent_Price -0.174656 -0.047584       0.878983       1.000000    0.203647   \nKms_Driven    -0.088554 -0.524342       0.029187       0.203647    1.000000   \nFuel_Type     -0.219397  0.053643       0.509467       0.440415    0.166801   \nSeller_Type   -0.049010 -0.039896      -0.550724      -0.512030   -0.101419   \nTransmission  -0.115201 -0.000394       0.367128       0.348715    0.162510   \nOwner          0.051011 -0.171232      -0.096487      -0.019838    0.061766   \n\n               Fuel_Type  Seller_Type  Transmission     Owner  \nCar_Name       -0.219397    -0.049010     -0.115201  0.051011  \nYear            0.053643    -0.039896     -0.000394 -0.171232  \nSelling_Price   0.509467    -0.550724      0.367128 -0.096487  \nPresent_Price   0.440415    -0.512030      0.348715 -0.019838  \nKms_Driven      0.166801    -0.101419      0.162510  0.061766  \nFuel_Type       1.000000    -0.352415      0.080466 -0.057210  \nSeller_Type    -0.352415     1.000000     -0.063240  0.123854  \nTransmission    0.080466    -0.063240      1.000000  0.018716  \nOwner          -0.057210     0.123854      0.018716  1.000000  ",
            "text/html": "<div>\n<style scoped>\n    .dataframe tbody tr th:only-of-type {\n        vertical-align: middle;\n    }\n\n    .dataframe tbody tr th {\n        vertical-align: top;\n    }\n\n    .dataframe thead th {\n        text-align: right;\n    }\n</style>\n<table border=\"1\" class=\"dataframe\">\n  <thead>\n    <tr style=\"text-align: right;\">\n      <th></th>\n      <th>Car_Name</th>\n      <th>Year</th>\n      <th>Selling_Price</th>\n      <th>Present_Price</th>\n      <th>Kms_Driven</th>\n      <th>Fuel_Type</th>\n      <th>Seller_Type</th>\n      <th>Transmission</th>\n      <th>Owner</th>\n    </tr>\n  </thead>\n  <tbody>\n    <tr>\n      <th>Car_Name</th>\n      <td>1.000000</td>\n      <td>0.093863</td>\n      <td>-0.102556</td>\n      <td>-0.174656</td>\n      <td>-0.088554</td>\n      <td>-0.219397</td>\n      <td>-0.049010</td>\n      <td>-0.115201</td>\n      <td>0.051011</td>\n    </tr>\n    <tr>\n      <th>Year</th>\n      <td>0.093863</td>\n      <td>1.000000</td>\n      <td>0.236141</td>\n      <td>-0.047584</td>\n      <td>-0.524342</td>\n      <td>0.053643</td>\n      <td>-0.039896</td>\n      <td>-0.000394</td>\n      <td>-0.171232</td>\n    </tr>\n    <tr>\n      <th>Selling_Price</th>\n      <td>-0.102556</td>\n      <td>0.236141</td>\n      <td>1.000000</td>\n      <td>0.878983</td>\n      <td>0.029187</td>\n      <td>0.509467</td>\n      <td>-0.550724</td>\n      <td>0.367128</td>\n      <td>-0.096487</td>\n    </tr>\n    <tr>\n      <th>Present_Price</th>\n      <td>-0.174656</td>\n      <td>-0.047584</td>\n      <td>0.878983</td>\n      <td>1.000000</td>\n      <td>0.203647</td>\n      <td>0.440415</td>\n      <td>-0.512030</td>\n      <td>0.348715</td>\n      <td>-0.019838</td>\n    </tr>\n    <tr>\n      <th>Kms_Driven</th>\n      <td>-0.088554</td>\n      <td>-0.524342</td>\n      <td>0.029187</td>\n      <td>0.203647</td>\n      <td>1.000000</td>\n      <td>0.166801</td>\n      <td>-0.101419</td>\n      <td>0.162510</td>\n      <td>0.061766</td>\n    </tr>\n    <tr>\n      <th>Fuel_Type</th>\n      <td>-0.219397</td>\n      <td>0.053643</td>\n      <td>0.509467</td>\n      <td>0.440415</td>\n      <td>0.166801</td>\n      <td>1.000000</td>\n      <td>-0.352415</td>\n      <td>0.080466</td>\n      <td>-0.057210</td>\n    </tr>\n    <tr>\n      <th>Seller_Type</th>\n      <td>-0.049010</td>\n      <td>-0.039896</td>\n      <td>-0.550724</td>\n      <td>-0.512030</td>\n      <td>-0.101419</td>\n      <td>-0.352415</td>\n      <td>1.000000</td>\n      <td>-0.063240</td>\n      <td>0.123854</td>\n    </tr>\n    <tr>\n      <th>Transmission</th>\n      <td>-0.115201</td>\n      <td>-0.000394</td>\n      <td>0.367128</td>\n      <td>0.348715</td>\n      <td>0.162510</td>\n      <td>0.080466</td>\n      <td>-0.063240</td>\n      <td>1.000000</td>\n      <td>0.018716</td>\n    </tr>\n    <tr>\n      <th>Owner</th>\n      <td>0.051011</td>\n      <td>-0.171232</td>\n      <td>-0.096487</td>\n      <td>-0.019838</td>\n      <td>0.061766</td>\n      <td>-0.057210</td>\n      <td>0.123854</td>\n      <td>0.018716</td>\n      <td>1.000000</td>\n    </tr>\n  </tbody>\n</table>\n</div>"
          },
          "metadata": {}
        }
      ],
      "execution_count": 21,
      "metadata": {
        "execution": {
          "iopub.execute_input": "2022-12-14T01:46:49.808Z",
          "iopub.status.busy": "2022-12-14T01:46:49.793Z",
          "iopub.status.idle": "2022-12-14T01:46:49.891Z",
          "shell.execute_reply": "2022-12-14T01:46:49.887Z",
          "shell.execute_reply.started": "2021-11-12T05:22:13.485230Z"
        },
        "trusted": false
      }
    },
    {
      "cell_type": "markdown",
      "source": [
        "## 모델링"
      ],
      "metadata": {}
    },
    {
      "cell_type": "code",
      "source": [
        "## 데이터를 스케일링 하고 트레인 셋과 테스트 셋으로 나누어 보세요.\n",
        "std_scaler = StandardScaler()\n",
        " \n",
        "df_scaled = std_scaler.fit_transform(data[['Selling_Price','Present_Price','Kms_Driven']].to_numpy())\n",
        "df_scaled = pd.DataFrame(df_scaled, columns=[[\n",
        "  'Selling_Price','Present_Price','Kms_Driven']])\n",
        "data[['Selling_Price','Present_Price','Kms_Driven']] = df_scaled[['Selling_Price','Present_Price','Kms_Driven']]\n",
        "\n",
        "\n",
        "#data split\n",
        "X = data\n",
        "\n",
        "X_train, X_test = train_test_split(X, test_size = 0.25, random_state = 99)\n",
        "print(data)\n",
        "print(len(X_train))\n"
      ],
      "outputs": [
        {
          "output_type": "stream",
          "name": "stdout",
          "text": "     Car_Name  Year  Selling_Price  Present_Price  Kms_Driven  Fuel_Type  \\\n0           0  2014      -0.258416      -0.236215   -0.256224          0   \n1           1  2013       0.017481       0.221505    0.155911          1   \n2           2  2017       0.510154       0.257427   -0.773969          0   \n3           3  2011      -0.356950      -0.403079   -0.817758          0   \n4           4  2014      -0.012079      -0.087890    0.141743          1   \n..        ...   ...            ...            ...         ...        ...   \n296        94  2016       0.953559       0.460214   -0.076225          1   \n297        95  2015      -0.130321      -0.200292    0.593804          0   \n298        94  2009      -0.258416       0.390687    1.313340          0   \n299        94  2017       1.347698       0.564504   -0.719876          1   \n300        95  2016       0.125869      -0.200292   -0.810958          0   \n\n     Seller_Type  Transmission  Owner  \n0              0             0      0  \n1              0             0      0  \n2              0             0      0  \n3              0             0      0  \n4              0             0      0  \n..           ...           ...    ...  \n296            0             0      0  \n297            0             0      0  \n298            0             0      0  \n299            0             0      0  \n300            0             0      0  \n\n[301 rows x 9 columns]\n225\n"
        }
      ],
      "execution_count": 40,
      "metadata": {
        "execution": {
          "iopub.execute_input": "2022-12-14T02:22:04.891Z",
          "iopub.status.busy": "2022-12-14T02:22:04.877Z",
          "iopub.status.idle": "2022-12-14T02:22:04.934Z",
          "shell.execute_reply": "2022-12-14T02:22:04.936Z",
          "shell.execute_reply.started": "2021-11-12T05:22:13.485230Z"
        },
        "trusted": false
      }
    },
    {
      "cell_type": "code",
      "source": [
        "## 선형 회귀 모델을 통해 여러가지 변수들의 관계를 파악해 보세요.\n",
        "\n",
        "model = LinearRegression()\n",
        "\n",
        "model.fit(X_train[['Selling_Price']], X_train[['Present_Price']])\n",
        "pred1 = model.predict(X_test[['Selling_Price']])\n",
        "\n",
        "model.fit(X_train[['Selling_Price']], X_train[['Fuel_Type']])\n",
        "pred2 = model.predict(X_test[['Selling_Price']])\n",
        "\n",
        "model.fit(X_train[['Kms_Driven']], X_train[['Kms_Driven']])\n",
        "pred3 = model.predict(X_test[['Kms_Driven']])\n"
      ],
      "outputs": [],
      "execution_count": 61,
      "metadata": {
        "execution": {
          "iopub.execute_input": "2022-12-14T02:45:04.999Z",
          "iopub.status.busy": "2022-12-14T02:45:04.997Z",
          "iopub.status.idle": "2022-12-14T02:45:05.037Z",
          "shell.execute_reply": "2022-12-14T02:45:05.001Z",
          "shell.execute_reply.started": "2021-11-12T05:22:13.485230Z"
        },
        "trusted": false
      }
    },
    {
      "cell_type": "code",
      "source": [
        "## 모델을 평가하고 해석해 보세요.\n",
        "print(\"Sell price : Present Price r2 score: \",r2_score(pred1, X_test[['Present_Price']]))  # high corr, high r2 score\n",
        "print(\"Sell price : Fuel Type r2 score: \",r2_score(pred2, X_test[['Fuel_Type']])) # properly high corr, but low r2 because data isnt linear, more logistic\n",
        "print(\"Kms_Driven : Kms_Driven r2 score: \",r2_score(pred3, X_test[['Kms_Driven']])) # A:A linear regression, 1 corr => 1 r2 score\n",
        "\n",
        "\n",
        "\n"
      ],
      "outputs": [
        {
          "output_type": "stream",
          "name": "stdout",
          "text": "Sell price : Present Price r2 score:  0.8020285705215339\nSell price : Fuel Type r2 score:  -1.882284674911658\nKms_Driven : Kms_Driven r2 score:  1.0\n"
        }
      ],
      "execution_count": 62,
      "metadata": {
        "execution": {
          "iopub.execute_input": "2022-12-14T02:45:05.863Z",
          "iopub.status.busy": "2022-12-14T02:45:05.860Z",
          "iopub.status.idle": "2022-12-14T02:45:05.870Z",
          "shell.execute_reply": "2022-12-14T02:45:05.868Z",
          "shell.execute_reply.started": "2021-11-12T05:22:13.485230Z"
        },
        "trusted": false
      }
    }
  ],
  "metadata": {
    "kernelspec": {
      "name": "python3",
      "language": "python",
      "display_name": "Python 3 (ipykernel)"
    },
    "language_info": {
      "name": "python",
      "version": "3.10.5",
      "mimetype": "text/x-python",
      "codemirror_mode": {
        "name": "ipython",
        "version": 3
      },
      "pygments_lexer": "ipython3",
      "nbconvert_exporter": "python",
      "file_extension": ".py"
    },
    "kernel_info": {
      "name": "python3"
    },
    "nteract": {
      "version": "@nteract/web"
    }
  },
  "nbformat": 4,
  "nbformat_minor": 4
}